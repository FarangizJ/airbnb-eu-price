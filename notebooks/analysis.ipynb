{
 "cells": [
  {
   "cell_type": "markdown",
   "id": "56bf6de1",
   "metadata": {},
   "source": []
  },
  {
   "cell_type": "markdown",
   "id": "265cd82c",
   "metadata": {},
   "source": [
    "I will mosrtly use codes from Python 1 class, it will not be too complicated but familiar."
   ]
  },
  {
   "cell_type": "code",
   "execution_count": 1,
   "id": "ff4d7bbc",
   "metadata": {},
   "outputs": [
    {
     "name": "stdout",
     "output_type": "stream",
     "text": [
      "Requirement already satisfied: matplotlib in /opt/miniconda3/envs/myenv_project/lib/python3.11/site-packages (3.10.6)\n",
      "Requirement already satisfied: contourpy>=1.0.1 in /opt/miniconda3/envs/myenv_project/lib/python3.11/site-packages (from matplotlib) (1.3.3)\n",
      "Requirement already satisfied: cycler>=0.10 in /opt/miniconda3/envs/myenv_project/lib/python3.11/site-packages (from matplotlib) (0.12.1)\n",
      "Requirement already satisfied: fonttools>=4.22.0 in /opt/miniconda3/envs/myenv_project/lib/python3.11/site-packages (from matplotlib) (4.60.1)\n",
      "Requirement already satisfied: kiwisolver>=1.3.1 in /opt/miniconda3/envs/myenv_project/lib/python3.11/site-packages (from matplotlib) (1.4.9)\n",
      "Requirement already satisfied: numpy>=1.23 in /opt/miniconda3/envs/myenv_project/lib/python3.11/site-packages (from matplotlib) (2.3.3)\n",
      "Requirement already satisfied: packaging>=20.0 in /opt/miniconda3/envs/myenv_project/lib/python3.11/site-packages (from matplotlib) (25.0)\n",
      "Requirement already satisfied: pillow>=8 in /opt/miniconda3/envs/myenv_project/lib/python3.11/site-packages (from matplotlib) (11.3.0)\n",
      "Requirement already satisfied: pyparsing>=2.3.1 in /opt/miniconda3/envs/myenv_project/lib/python3.11/site-packages (from matplotlib) (3.2.5)\n",
      "Requirement already satisfied: python-dateutil>=2.7 in /opt/miniconda3/envs/myenv_project/lib/python3.11/site-packages (from matplotlib) (2.9.0.post0)\n",
      "Requirement already satisfied: six>=1.5 in /opt/miniconda3/envs/myenv_project/lib/python3.11/site-packages (from python-dateutil>=2.7->matplotlib) (1.17.0)\n",
      "Requirement already satisfied: seaborn in /opt/miniconda3/envs/myenv_project/lib/python3.11/site-packages (0.13.2)\n",
      "Requirement already satisfied: numpy!=1.24.0,>=1.20 in /opt/miniconda3/envs/myenv_project/lib/python3.11/site-packages (from seaborn) (2.3.3)\n",
      "Requirement already satisfied: pandas>=1.2 in /opt/miniconda3/envs/myenv_project/lib/python3.11/site-packages (from seaborn) (2.2.3)\n",
      "Requirement already satisfied: matplotlib!=3.6.1,>=3.4 in /opt/miniconda3/envs/myenv_project/lib/python3.11/site-packages (from seaborn) (3.10.6)\n",
      "Requirement already satisfied: contourpy>=1.0.1 in /opt/miniconda3/envs/myenv_project/lib/python3.11/site-packages (from matplotlib!=3.6.1,>=3.4->seaborn) (1.3.3)\n",
      "Requirement already satisfied: cycler>=0.10 in /opt/miniconda3/envs/myenv_project/lib/python3.11/site-packages (from matplotlib!=3.6.1,>=3.4->seaborn) (0.12.1)\n",
      "Requirement already satisfied: fonttools>=4.22.0 in /opt/miniconda3/envs/myenv_project/lib/python3.11/site-packages (from matplotlib!=3.6.1,>=3.4->seaborn) (4.60.1)\n",
      "Requirement already satisfied: kiwisolver>=1.3.1 in /opt/miniconda3/envs/myenv_project/lib/python3.11/site-packages (from matplotlib!=3.6.1,>=3.4->seaborn) (1.4.9)\n",
      "Requirement already satisfied: packaging>=20.0 in /opt/miniconda3/envs/myenv_project/lib/python3.11/site-packages (from matplotlib!=3.6.1,>=3.4->seaborn) (25.0)\n",
      "Requirement already satisfied: pillow>=8 in /opt/miniconda3/envs/myenv_project/lib/python3.11/site-packages (from matplotlib!=3.6.1,>=3.4->seaborn) (11.3.0)\n",
      "Requirement already satisfied: pyparsing>=2.3.1 in /opt/miniconda3/envs/myenv_project/lib/python3.11/site-packages (from matplotlib!=3.6.1,>=3.4->seaborn) (3.2.5)\n",
      "Requirement already satisfied: python-dateutil>=2.7 in /opt/miniconda3/envs/myenv_project/lib/python3.11/site-packages (from matplotlib!=3.6.1,>=3.4->seaborn) (2.9.0.post0)\n",
      "Requirement already satisfied: pytz>=2020.1 in /opt/miniconda3/envs/myenv_project/lib/python3.11/site-packages (from pandas>=1.2->seaborn) (2025.2)\n",
      "Requirement already satisfied: tzdata>=2022.7 in /opt/miniconda3/envs/myenv_project/lib/python3.11/site-packages (from pandas>=1.2->seaborn) (2025.2)\n",
      "Requirement already satisfied: six>=1.5 in /opt/miniconda3/envs/myenv_project/lib/python3.11/site-packages (from python-dateutil>=2.7->matplotlib!=3.6.1,>=3.4->seaborn) (1.17.0)\n"
     ]
    }
   ],
   "source": [
    "import pandas as pd\n",
    "import numpy as np\n",
    "import warnings\n",
    "import os\n",
    "warnings.filterwarnings(\"ignore\")\n",
    "import matplotlib.pyplot as plt\n",
    "!pip install matplotlib\n",
    "!pip install seaborn\n",
    "import seaborn as sns"
   ]
  },
  {
   "cell_type": "code",
   "execution_count": 2,
   "id": "e727a4cf",
   "metadata": {},
   "outputs": [],
   "source": [
    " #os.chdir(\"/Users/feya/Downloads/data science/airbnb-eu-price\") #change directory\n",
    "#print(os.getcwd()) "
   ]
  },
  {
   "cell_type": "code",
   "execution_count": 3,
   "id": "ede52f38",
   "metadata": {},
   "outputs": [
    {
     "name": "stdout",
     "output_type": "stream",
     "text": [
      "/Users/feya/Downloads/data science/airbnb-eu-price/notebooks\n"
     ]
    }
   ],
   "source": [
    "\n",
    "print(os.getcwd()) #get current working directory\n",
    "\n"
   ]
  },
  {
   "cell_type": "code",
   "execution_count": null,
   "id": "e90942fa",
   "metadata": {},
   "outputs": [
    {
     "ename": "FileNotFoundError",
     "evalue": "[Errno 2] No such file or directory: 'data/raw/abnb_eu.csv'",
     "output_type": "error",
     "traceback": [
      "\u001b[31m---------------------------------------------------------------------------\u001b[39m",
      "\u001b[31mFileNotFoundError\u001b[39m                         Traceback (most recent call last)",
      "\u001b[36mCell\u001b[39m\u001b[36m \u001b[39m\u001b[32mIn[4]\u001b[39m\u001b[32m, line 1\u001b[39m\n\u001b[32m----> \u001b[39m\u001b[32m1\u001b[39m df = \u001b[43mpd\u001b[49m\u001b[43m.\u001b[49m\u001b[43mread_csv\u001b[49m\u001b[43m(\u001b[49m\u001b[33;43m\"\u001b[39;49m\u001b[33;43mdata/raw/abnb_eu.csv\u001b[39;49m\u001b[33;43m\"\u001b[39;49m\u001b[43m)\u001b[49m\n",
      "\u001b[36mFile \u001b[39m\u001b[32m/opt/miniconda3/envs/myenv_project/lib/python3.11/site-packages/pandas/io/parsers/readers.py:1026\u001b[39m, in \u001b[36mread_csv\u001b[39m\u001b[34m(filepath_or_buffer, sep, delimiter, header, names, index_col, usecols, dtype, engine, converters, true_values, false_values, skipinitialspace, skiprows, skipfooter, nrows, na_values, keep_default_na, na_filter, verbose, skip_blank_lines, parse_dates, infer_datetime_format, keep_date_col, date_parser, date_format, dayfirst, cache_dates, iterator, chunksize, compression, thousands, decimal, lineterminator, quotechar, quoting, doublequote, escapechar, comment, encoding, encoding_errors, dialect, on_bad_lines, delim_whitespace, low_memory, memory_map, float_precision, storage_options, dtype_backend)\u001b[39m\n\u001b[32m   1013\u001b[39m kwds_defaults = _refine_defaults_read(\n\u001b[32m   1014\u001b[39m     dialect,\n\u001b[32m   1015\u001b[39m     delimiter,\n\u001b[32m   (...)\u001b[39m\u001b[32m   1022\u001b[39m     dtype_backend=dtype_backend,\n\u001b[32m   1023\u001b[39m )\n\u001b[32m   1024\u001b[39m kwds.update(kwds_defaults)\n\u001b[32m-> \u001b[39m\u001b[32m1026\u001b[39m \u001b[38;5;28;01mreturn\u001b[39;00m \u001b[43m_read\u001b[49m\u001b[43m(\u001b[49m\u001b[43mfilepath_or_buffer\u001b[49m\u001b[43m,\u001b[49m\u001b[43m \u001b[49m\u001b[43mkwds\u001b[49m\u001b[43m)\u001b[49m\n",
      "\u001b[36mFile \u001b[39m\u001b[32m/opt/miniconda3/envs/myenv_project/lib/python3.11/site-packages/pandas/io/parsers/readers.py:620\u001b[39m, in \u001b[36m_read\u001b[39m\u001b[34m(filepath_or_buffer, kwds)\u001b[39m\n\u001b[32m    617\u001b[39m _validate_names(kwds.get(\u001b[33m\"\u001b[39m\u001b[33mnames\u001b[39m\u001b[33m\"\u001b[39m, \u001b[38;5;28;01mNone\u001b[39;00m))\n\u001b[32m    619\u001b[39m \u001b[38;5;66;03m# Create the parser.\u001b[39;00m\n\u001b[32m--> \u001b[39m\u001b[32m620\u001b[39m parser = \u001b[43mTextFileReader\u001b[49m\u001b[43m(\u001b[49m\u001b[43mfilepath_or_buffer\u001b[49m\u001b[43m,\u001b[49m\u001b[43m \u001b[49m\u001b[43m*\u001b[49m\u001b[43m*\u001b[49m\u001b[43mkwds\u001b[49m\u001b[43m)\u001b[49m\n\u001b[32m    622\u001b[39m \u001b[38;5;28;01mif\u001b[39;00m chunksize \u001b[38;5;129;01mor\u001b[39;00m iterator:\n\u001b[32m    623\u001b[39m     \u001b[38;5;28;01mreturn\u001b[39;00m parser\n",
      "\u001b[36mFile \u001b[39m\u001b[32m/opt/miniconda3/envs/myenv_project/lib/python3.11/site-packages/pandas/io/parsers/readers.py:1620\u001b[39m, in \u001b[36mTextFileReader.__init__\u001b[39m\u001b[34m(self, f, engine, **kwds)\u001b[39m\n\u001b[32m   1617\u001b[39m     \u001b[38;5;28mself\u001b[39m.options[\u001b[33m\"\u001b[39m\u001b[33mhas_index_names\u001b[39m\u001b[33m\"\u001b[39m] = kwds[\u001b[33m\"\u001b[39m\u001b[33mhas_index_names\u001b[39m\u001b[33m\"\u001b[39m]\n\u001b[32m   1619\u001b[39m \u001b[38;5;28mself\u001b[39m.handles: IOHandles | \u001b[38;5;28;01mNone\u001b[39;00m = \u001b[38;5;28;01mNone\u001b[39;00m\n\u001b[32m-> \u001b[39m\u001b[32m1620\u001b[39m \u001b[38;5;28mself\u001b[39m._engine = \u001b[38;5;28;43mself\u001b[39;49m\u001b[43m.\u001b[49m\u001b[43m_make_engine\u001b[49m\u001b[43m(\u001b[49m\u001b[43mf\u001b[49m\u001b[43m,\u001b[49m\u001b[43m \u001b[49m\u001b[38;5;28;43mself\u001b[39;49m\u001b[43m.\u001b[49m\u001b[43mengine\u001b[49m\u001b[43m)\u001b[49m\n",
      "\u001b[36mFile \u001b[39m\u001b[32m/opt/miniconda3/envs/myenv_project/lib/python3.11/site-packages/pandas/io/parsers/readers.py:1880\u001b[39m, in \u001b[36mTextFileReader._make_engine\u001b[39m\u001b[34m(self, f, engine)\u001b[39m\n\u001b[32m   1878\u001b[39m     \u001b[38;5;28;01mif\u001b[39;00m \u001b[33m\"\u001b[39m\u001b[33mb\u001b[39m\u001b[33m\"\u001b[39m \u001b[38;5;129;01mnot\u001b[39;00m \u001b[38;5;129;01min\u001b[39;00m mode:\n\u001b[32m   1879\u001b[39m         mode += \u001b[33m\"\u001b[39m\u001b[33mb\u001b[39m\u001b[33m\"\u001b[39m\n\u001b[32m-> \u001b[39m\u001b[32m1880\u001b[39m \u001b[38;5;28mself\u001b[39m.handles = \u001b[43mget_handle\u001b[49m\u001b[43m(\u001b[49m\n\u001b[32m   1881\u001b[39m \u001b[43m    \u001b[49m\u001b[43mf\u001b[49m\u001b[43m,\u001b[49m\n\u001b[32m   1882\u001b[39m \u001b[43m    \u001b[49m\u001b[43mmode\u001b[49m\u001b[43m,\u001b[49m\n\u001b[32m   1883\u001b[39m \u001b[43m    \u001b[49m\u001b[43mencoding\u001b[49m\u001b[43m=\u001b[49m\u001b[38;5;28;43mself\u001b[39;49m\u001b[43m.\u001b[49m\u001b[43moptions\u001b[49m\u001b[43m.\u001b[49m\u001b[43mget\u001b[49m\u001b[43m(\u001b[49m\u001b[33;43m\"\u001b[39;49m\u001b[33;43mencoding\u001b[39;49m\u001b[33;43m\"\u001b[39;49m\u001b[43m,\u001b[49m\u001b[43m \u001b[49m\u001b[38;5;28;43;01mNone\u001b[39;49;00m\u001b[43m)\u001b[49m\u001b[43m,\u001b[49m\n\u001b[32m   1884\u001b[39m \u001b[43m    \u001b[49m\u001b[43mcompression\u001b[49m\u001b[43m=\u001b[49m\u001b[38;5;28;43mself\u001b[39;49m\u001b[43m.\u001b[49m\u001b[43moptions\u001b[49m\u001b[43m.\u001b[49m\u001b[43mget\u001b[49m\u001b[43m(\u001b[49m\u001b[33;43m\"\u001b[39;49m\u001b[33;43mcompression\u001b[39;49m\u001b[33;43m\"\u001b[39;49m\u001b[43m,\u001b[49m\u001b[43m \u001b[49m\u001b[38;5;28;43;01mNone\u001b[39;49;00m\u001b[43m)\u001b[49m\u001b[43m,\u001b[49m\n\u001b[32m   1885\u001b[39m \u001b[43m    \u001b[49m\u001b[43mmemory_map\u001b[49m\u001b[43m=\u001b[49m\u001b[38;5;28;43mself\u001b[39;49m\u001b[43m.\u001b[49m\u001b[43moptions\u001b[49m\u001b[43m.\u001b[49m\u001b[43mget\u001b[49m\u001b[43m(\u001b[49m\u001b[33;43m\"\u001b[39;49m\u001b[33;43mmemory_map\u001b[39;49m\u001b[33;43m\"\u001b[39;49m\u001b[43m,\u001b[49m\u001b[43m \u001b[49m\u001b[38;5;28;43;01mFalse\u001b[39;49;00m\u001b[43m)\u001b[49m\u001b[43m,\u001b[49m\n\u001b[32m   1886\u001b[39m \u001b[43m    \u001b[49m\u001b[43mis_text\u001b[49m\u001b[43m=\u001b[49m\u001b[43mis_text\u001b[49m\u001b[43m,\u001b[49m\n\u001b[32m   1887\u001b[39m \u001b[43m    \u001b[49m\u001b[43merrors\u001b[49m\u001b[43m=\u001b[49m\u001b[38;5;28;43mself\u001b[39;49m\u001b[43m.\u001b[49m\u001b[43moptions\u001b[49m\u001b[43m.\u001b[49m\u001b[43mget\u001b[49m\u001b[43m(\u001b[49m\u001b[33;43m\"\u001b[39;49m\u001b[33;43mencoding_errors\u001b[39;49m\u001b[33;43m\"\u001b[39;49m\u001b[43m,\u001b[49m\u001b[43m \u001b[49m\u001b[33;43m\"\u001b[39;49m\u001b[33;43mstrict\u001b[39;49m\u001b[33;43m\"\u001b[39;49m\u001b[43m)\u001b[49m\u001b[43m,\u001b[49m\n\u001b[32m   1888\u001b[39m \u001b[43m    \u001b[49m\u001b[43mstorage_options\u001b[49m\u001b[43m=\u001b[49m\u001b[38;5;28;43mself\u001b[39;49m\u001b[43m.\u001b[49m\u001b[43moptions\u001b[49m\u001b[43m.\u001b[49m\u001b[43mget\u001b[49m\u001b[43m(\u001b[49m\u001b[33;43m\"\u001b[39;49m\u001b[33;43mstorage_options\u001b[39;49m\u001b[33;43m\"\u001b[39;49m\u001b[43m,\u001b[49m\u001b[43m \u001b[49m\u001b[38;5;28;43;01mNone\u001b[39;49;00m\u001b[43m)\u001b[49m\u001b[43m,\u001b[49m\n\u001b[32m   1889\u001b[39m \u001b[43m\u001b[49m\u001b[43m)\u001b[49m\n\u001b[32m   1890\u001b[39m \u001b[38;5;28;01massert\u001b[39;00m \u001b[38;5;28mself\u001b[39m.handles \u001b[38;5;129;01mis\u001b[39;00m \u001b[38;5;129;01mnot\u001b[39;00m \u001b[38;5;28;01mNone\u001b[39;00m\n\u001b[32m   1891\u001b[39m f = \u001b[38;5;28mself\u001b[39m.handles.handle\n",
      "\u001b[36mFile \u001b[39m\u001b[32m/opt/miniconda3/envs/myenv_project/lib/python3.11/site-packages/pandas/io/common.py:873\u001b[39m, in \u001b[36mget_handle\u001b[39m\u001b[34m(path_or_buf, mode, encoding, compression, memory_map, is_text, errors, storage_options)\u001b[39m\n\u001b[32m    868\u001b[39m \u001b[38;5;28;01melif\u001b[39;00m \u001b[38;5;28misinstance\u001b[39m(handle, \u001b[38;5;28mstr\u001b[39m):\n\u001b[32m    869\u001b[39m     \u001b[38;5;66;03m# Check whether the filename is to be opened in binary mode.\u001b[39;00m\n\u001b[32m    870\u001b[39m     \u001b[38;5;66;03m# Binary mode does not support 'encoding' and 'newline'.\u001b[39;00m\n\u001b[32m    871\u001b[39m     \u001b[38;5;28;01mif\u001b[39;00m ioargs.encoding \u001b[38;5;129;01mand\u001b[39;00m \u001b[33m\"\u001b[39m\u001b[33mb\u001b[39m\u001b[33m\"\u001b[39m \u001b[38;5;129;01mnot\u001b[39;00m \u001b[38;5;129;01min\u001b[39;00m ioargs.mode:\n\u001b[32m    872\u001b[39m         \u001b[38;5;66;03m# Encoding\u001b[39;00m\n\u001b[32m--> \u001b[39m\u001b[32m873\u001b[39m         handle = \u001b[38;5;28;43mopen\u001b[39;49m\u001b[43m(\u001b[49m\n\u001b[32m    874\u001b[39m \u001b[43m            \u001b[49m\u001b[43mhandle\u001b[49m\u001b[43m,\u001b[49m\n\u001b[32m    875\u001b[39m \u001b[43m            \u001b[49m\u001b[43mioargs\u001b[49m\u001b[43m.\u001b[49m\u001b[43mmode\u001b[49m\u001b[43m,\u001b[49m\n\u001b[32m    876\u001b[39m \u001b[43m            \u001b[49m\u001b[43mencoding\u001b[49m\u001b[43m=\u001b[49m\u001b[43mioargs\u001b[49m\u001b[43m.\u001b[49m\u001b[43mencoding\u001b[49m\u001b[43m,\u001b[49m\n\u001b[32m    877\u001b[39m \u001b[43m            \u001b[49m\u001b[43merrors\u001b[49m\u001b[43m=\u001b[49m\u001b[43merrors\u001b[49m\u001b[43m,\u001b[49m\n\u001b[32m    878\u001b[39m \u001b[43m            \u001b[49m\u001b[43mnewline\u001b[49m\u001b[43m=\u001b[49m\u001b[33;43m\"\u001b[39;49m\u001b[33;43m\"\u001b[39;49m\u001b[43m,\u001b[49m\n\u001b[32m    879\u001b[39m \u001b[43m        \u001b[49m\u001b[43m)\u001b[49m\n\u001b[32m    880\u001b[39m     \u001b[38;5;28;01melse\u001b[39;00m:\n\u001b[32m    881\u001b[39m         \u001b[38;5;66;03m# Binary mode\u001b[39;00m\n\u001b[32m    882\u001b[39m         handle = \u001b[38;5;28mopen\u001b[39m(handle, ioargs.mode)\n",
      "\u001b[31mFileNotFoundError\u001b[39m: [Errno 2] No such file or directory: 'data/raw/abnb_eu.csv'"
     ]
    }
   ],
   "source": [
    "df = pd.read_csv(\"data/raw/abnb_eu.csv\")"
   ]
  },
  {
   "cell_type": "code",
   "execution_count": null,
   "id": "7bdeeecb",
   "metadata": {},
   "outputs": [
    {
     "data": {
      "application/vnd.microsoft.datawrangler.viewer.v0+json": {
       "columns": [
        {
         "name": "index",
         "rawType": "int64",
         "type": "integer"
        },
        {
         "name": "realSum",
         "rawType": "float64",
         "type": "float"
        },
        {
         "name": "room_type",
         "rawType": "object",
         "type": "string"
        },
        {
         "name": "room_shared",
         "rawType": "bool",
         "type": "boolean"
        },
        {
         "name": "room_private",
         "rawType": "bool",
         "type": "boolean"
        },
        {
         "name": "person_capacity",
         "rawType": "int64",
         "type": "integer"
        },
        {
         "name": "host_is_superhost",
         "rawType": "bool",
         "type": "boolean"
        },
        {
         "name": "multi",
         "rawType": "int64",
         "type": "integer"
        },
        {
         "name": "biz",
         "rawType": "int64",
         "type": "integer"
        },
        {
         "name": "cleanliness_rating",
         "rawType": "int64",
         "type": "integer"
        },
        {
         "name": "guest_satisfaction_overall",
         "rawType": "int64",
         "type": "integer"
        },
        {
         "name": "bedrooms",
         "rawType": "int64",
         "type": "integer"
        },
        {
         "name": "dist",
         "rawType": "float64",
         "type": "float"
        },
        {
         "name": "metro_dist",
         "rawType": "float64",
         "type": "float"
        },
        {
         "name": "city",
         "rawType": "object",
         "type": "string"
        },
        {
         "name": "weekends",
         "rawType": "bool",
         "type": "boolean"
        }
       ],
       "ref": "e0a6074c-19e7-4dde-8caf-cbad6b651fd6",
       "rows": [
        [
         "0",
         "319.640053429569",
         "Private room",
         "False",
         "True",
         "2",
         "False",
         "0",
         "1",
         "9",
         "88",
         "1",
         "4.76335974080673",
         "0.852117396926157",
         "Amsterdam",
         "True"
        ],
        [
         "1",
         "347.995219459612",
         "Private room",
         "False",
         "True",
         "2",
         "False",
         "0",
         "1",
         "9",
         "87",
         "1",
         "5.74831029327163",
         "3.65159149908583",
         "Amsterdam",
         "True"
        ],
        [
         "2",
         "482.975183371218",
         "Private room",
         "False",
         "True",
         "4",
         "False",
         "0",
         "1",
         "9",
         "90",
         "2",
         "0.384872086143166",
         "0.439851630272995",
         "Amsterdam",
         "True"
        ],
        [
         "3",
         "485.552925737586",
         "Private room",
         "False",
         "True",
         "2",
         "True",
         "0",
         "0",
         "10",
         "98",
         "1",
         "0.544722558721345",
         "0.318688148435699",
         "Amsterdam",
         "True"
        ],
        [
         "4",
         "2771.5417242753",
         "Entire home/apt",
         "False",
         "False",
         "4",
         "True",
         "0",
         "0",
         "10",
         "100",
         "3",
         "1.6867976800229",
         "1.45839938986642",
         "Amsterdam",
         "True"
        ]
       ],
       "shape": {
        "columns": 15,
        "rows": 5
       }
      },
      "text/html": [
       "<div>\n",
       "<style scoped>\n",
       "    .dataframe tbody tr th:only-of-type {\n",
       "        vertical-align: middle;\n",
       "    }\n",
       "\n",
       "    .dataframe tbody tr th {\n",
       "        vertical-align: top;\n",
       "    }\n",
       "\n",
       "    .dataframe thead th {\n",
       "        text-align: right;\n",
       "    }\n",
       "</style>\n",
       "<table border=\"1\" class=\"dataframe\">\n",
       "  <thead>\n",
       "    <tr style=\"text-align: right;\">\n",
       "      <th></th>\n",
       "      <th>realSum</th>\n",
       "      <th>room_type</th>\n",
       "      <th>room_shared</th>\n",
       "      <th>room_private</th>\n",
       "      <th>person_capacity</th>\n",
       "      <th>host_is_superhost</th>\n",
       "      <th>multi</th>\n",
       "      <th>biz</th>\n",
       "      <th>cleanliness_rating</th>\n",
       "      <th>guest_satisfaction_overall</th>\n",
       "      <th>bedrooms</th>\n",
       "      <th>dist</th>\n",
       "      <th>metro_dist</th>\n",
       "      <th>city</th>\n",
       "      <th>weekends</th>\n",
       "    </tr>\n",
       "  </thead>\n",
       "  <tbody>\n",
       "    <tr>\n",
       "      <th>0</th>\n",
       "      <td>319.640053</td>\n",
       "      <td>Private room</td>\n",
       "      <td>False</td>\n",
       "      <td>True</td>\n",
       "      <td>2</td>\n",
       "      <td>False</td>\n",
       "      <td>0</td>\n",
       "      <td>1</td>\n",
       "      <td>9</td>\n",
       "      <td>88</td>\n",
       "      <td>1</td>\n",
       "      <td>4.763360</td>\n",
       "      <td>0.852117</td>\n",
       "      <td>Amsterdam</td>\n",
       "      <td>True</td>\n",
       "    </tr>\n",
       "    <tr>\n",
       "      <th>1</th>\n",
       "      <td>347.995219</td>\n",
       "      <td>Private room</td>\n",
       "      <td>False</td>\n",
       "      <td>True</td>\n",
       "      <td>2</td>\n",
       "      <td>False</td>\n",
       "      <td>0</td>\n",
       "      <td>1</td>\n",
       "      <td>9</td>\n",
       "      <td>87</td>\n",
       "      <td>1</td>\n",
       "      <td>5.748310</td>\n",
       "      <td>3.651591</td>\n",
       "      <td>Amsterdam</td>\n",
       "      <td>True</td>\n",
       "    </tr>\n",
       "    <tr>\n",
       "      <th>2</th>\n",
       "      <td>482.975183</td>\n",
       "      <td>Private room</td>\n",
       "      <td>False</td>\n",
       "      <td>True</td>\n",
       "      <td>4</td>\n",
       "      <td>False</td>\n",
       "      <td>0</td>\n",
       "      <td>1</td>\n",
       "      <td>9</td>\n",
       "      <td>90</td>\n",
       "      <td>2</td>\n",
       "      <td>0.384872</td>\n",
       "      <td>0.439852</td>\n",
       "      <td>Amsterdam</td>\n",
       "      <td>True</td>\n",
       "    </tr>\n",
       "    <tr>\n",
       "      <th>3</th>\n",
       "      <td>485.552926</td>\n",
       "      <td>Private room</td>\n",
       "      <td>False</td>\n",
       "      <td>True</td>\n",
       "      <td>2</td>\n",
       "      <td>True</td>\n",
       "      <td>0</td>\n",
       "      <td>0</td>\n",
       "      <td>10</td>\n",
       "      <td>98</td>\n",
       "      <td>1</td>\n",
       "      <td>0.544723</td>\n",
       "      <td>0.318688</td>\n",
       "      <td>Amsterdam</td>\n",
       "      <td>True</td>\n",
       "    </tr>\n",
       "    <tr>\n",
       "      <th>4</th>\n",
       "      <td>2771.541724</td>\n",
       "      <td>Entire home/apt</td>\n",
       "      <td>False</td>\n",
       "      <td>False</td>\n",
       "      <td>4</td>\n",
       "      <td>True</td>\n",
       "      <td>0</td>\n",
       "      <td>0</td>\n",
       "      <td>10</td>\n",
       "      <td>100</td>\n",
       "      <td>3</td>\n",
       "      <td>1.686798</td>\n",
       "      <td>1.458399</td>\n",
       "      <td>Amsterdam</td>\n",
       "      <td>True</td>\n",
       "    </tr>\n",
       "  </tbody>\n",
       "</table>\n",
       "</div>"
      ],
      "text/plain": [
       "       realSum        room_type  room_shared  room_private  person_capacity  \\\n",
       "0   319.640053     Private room        False          True                2   \n",
       "1   347.995219     Private room        False          True                2   \n",
       "2   482.975183     Private room        False          True                4   \n",
       "3   485.552926     Private room        False          True                2   \n",
       "4  2771.541724  Entire home/apt        False         False                4   \n",
       "\n",
       "   host_is_superhost  multi  biz  cleanliness_rating  \\\n",
       "0              False      0    1                   9   \n",
       "1              False      0    1                   9   \n",
       "2              False      0    1                   9   \n",
       "3               True      0    0                  10   \n",
       "4               True      0    0                  10   \n",
       "\n",
       "   guest_satisfaction_overall  bedrooms      dist  metro_dist       city  \\\n",
       "0                          88         1  4.763360    0.852117  Amsterdam   \n",
       "1                          87         1  5.748310    3.651591  Amsterdam   \n",
       "2                          90         2  0.384872    0.439852  Amsterdam   \n",
       "3                          98         1  0.544723    0.318688  Amsterdam   \n",
       "4                         100         3  1.686798    1.458399  Amsterdam   \n",
       "\n",
       "   weekends  \n",
       "0      True  \n",
       "1      True  \n",
       "2      True  \n",
       "3      True  \n",
       "4      True  "
      ]
     },
     "execution_count": 195,
     "metadata": {},
     "output_type": "execute_result"
    }
   ],
   "source": [
    "df.head()"
   ]
  },
  {
   "cell_type": "code",
   "execution_count": null,
   "id": "f116844d",
   "metadata": {},
   "outputs": [],
   "source": [
    "df.to_csv(\"data/abnb_eu1.csv\", index=False) # I saved a raw data's copy in data file which i can use for editting\n",
    "\n"
   ]
  },
  {
   "cell_type": "code",
   "execution_count": null,
   "id": "70be39f6",
   "metadata": {},
   "outputs": [],
   "source": [
    "df[\"realSum\"] = pd.to_numeric(df[\"realSum\"], errors=\"coerce\").round(0).astype(\"Int64\")\n"
   ]
  },
  {
   "cell_type": "code",
   "execution_count": null,
   "id": "a6ca513c",
   "metadata": {},
   "outputs": [
    {
     "data": {
      "application/vnd.microsoft.datawrangler.viewer.v0+json": {
       "columns": [
        {
         "name": "index",
         "rawType": "int64",
         "type": "integer"
        },
        {
         "name": "realSum",
         "rawType": "Int64",
         "type": "integer"
        }
       ],
       "ref": "7ae0bd6a-eb04-4d14-8a51-1e4460f0e3a6",
       "rows": [
        [
         "0",
         "320"
        ],
        [
         "1",
         "348"
        ],
        [
         "2",
         "483"
        ],
        [
         "3",
         "486"
        ],
        [
         "4",
         "2772"
        ],
        [
         "5",
         "1002"
        ],
        [
         "6",
         "393"
        ],
        [
         "7",
         "288"
        ],
        [
         "8",
         "909"
        ],
        [
         "9",
         "393"
        ],
        [
         "10",
         "553"
        ],
        [
         "11",
         "553"
        ],
        [
         "12",
         "682"
        ],
        [
         "13",
         "234"
        ],
        [
         "14",
         "369"
        ],
        [
         "15",
         "498"
        ],
        [
         "16",
         "1106"
        ],
        [
         "17",
         "612"
        ],
        [
         "18",
         "858"
        ],
        [
         "19",
         "332"
        ],
        [
         "20",
         "204"
        ],
        [
         "21",
         "269"
        ],
        [
         "22",
         "295"
        ],
        [
         "23",
         "1096"
        ],
        [
         "24",
         "573"
        ],
        [
         "25",
         "600"
        ],
        [
         "26",
         "602"
        ],
        [
         "27",
         "1610"
        ],
        [
         "28",
         "332"
        ],
        [
         "29",
         "797"
        ],
        [
         "30",
         "541"
        ],
        [
         "31",
         "344"
        ],
        [
         "32",
         "479"
        ],
        [
         "33",
         "717"
        ],
        [
         "34",
         "350"
        ],
        [
         "35",
         "379"
        ],
        [
         "36",
         "299"
        ],
        [
         "37",
         "381"
        ],
        [
         "38",
         "430"
        ],
        [
         "39",
         "344"
        ],
        [
         "40",
         "407"
        ],
        [
         "41",
         "750"
        ],
        [
         "42",
         "492"
        ],
        [
         "43",
         "344"
        ],
        [
         "44",
         "817"
        ],
        [
         "45",
         "420"
        ],
        [
         "46",
         "256"
        ],
        [
         "47",
         "799"
        ],
        [
         "48",
         "369"
        ],
        [
         "49",
         "848"
        ]
       ],
       "shape": {
        "columns": 1,
        "rows": 51707
       }
      },
      "text/plain": [
       "0         320\n",
       "1         348\n",
       "2         483\n",
       "3         486\n",
       "4        2772\n",
       "         ... \n",
       "51702     219\n",
       "51703     191\n",
       "51704     252\n",
       "51705     638\n",
       "51706     133\n",
       "Name: realSum, Length: 51707, dtype: Int64"
      ]
     },
     "execution_count": 199,
     "metadata": {},
     "output_type": "execute_result"
    }
   ],
   "source": [
    "df[\"realSum\"]"
   ]
  },
  {
   "cell_type": "code",
   "execution_count": null,
   "id": "6abc3920",
   "metadata": {},
   "outputs": [
    {
     "data": {
      "text/plain": [
       "Int64Dtype()"
      ]
     },
     "execution_count": 200,
     "metadata": {},
     "output_type": "execute_result"
    }
   ],
   "source": [
    "df[\"realSum\"].dtypes"
   ]
  },
  {
   "cell_type": "code",
   "execution_count": null,
   "id": "f85039c0",
   "metadata": {},
   "outputs": [
    {
     "data": {
      "application/vnd.microsoft.datawrangler.viewer.v0+json": {
       "columns": [
        {
         "name": "index",
         "rawType": "int64",
         "type": "integer"
        },
        {
         "name": "realSum",
         "rawType": "Int64",
         "type": "integer"
        },
        {
         "name": "city",
         "rawType": "object",
         "type": "string"
        },
        {
         "name": "guest_satisfaction_overall",
         "rawType": "int64",
         "type": "integer"
        }
       ],
       "ref": "ffaa4659-7263-48bd-ab22-aa29069a6e04",
       "rows": [
        [
         "0",
         "320",
         "Amsterdam",
         "88"
        ],
        [
         "1",
         "348",
         "Amsterdam",
         "87"
        ],
        [
         "2",
         "483",
         "Amsterdam",
         "90"
        ],
        [
         "3",
         "486",
         "Amsterdam",
         "98"
        ],
        [
         "4",
         "2772",
         "Amsterdam",
         "100"
        ],
        [
         "5",
         "1002",
         "Amsterdam",
         "96"
        ],
        [
         "6",
         "393",
         "Amsterdam",
         "99"
        ],
        [
         "7",
         "288",
         "Amsterdam",
         "88"
        ],
        [
         "8",
         "909",
         "Amsterdam",
         "96"
        ],
        [
         "9",
         "393",
         "Amsterdam",
         "97"
        ],
        [
         "10",
         "553",
         "Amsterdam",
         "87"
        ],
        [
         "11",
         "553",
         "Amsterdam",
         "100"
        ],
        [
         "12",
         "682",
         "Amsterdam",
         "98"
        ],
        [
         "13",
         "234",
         "Amsterdam",
         "96"
        ],
        [
         "14",
         "369",
         "Amsterdam",
         "90"
        ],
        [
         "15",
         "498",
         "Amsterdam",
         "96"
        ],
        [
         "16",
         "1106",
         "Amsterdam",
         "95"
        ],
        [
         "17",
         "612",
         "Amsterdam",
         "99"
        ],
        [
         "18",
         "858",
         "Amsterdam",
         "98"
        ],
        [
         "19",
         "332",
         "Amsterdam",
         "98"
        ],
        [
         "20",
         "204",
         "Amsterdam",
         "96"
        ],
        [
         "21",
         "269",
         "Amsterdam",
         "93"
        ],
        [
         "22",
         "295",
         "Amsterdam",
         "94"
        ],
        [
         "23",
         "1096",
         "Amsterdam",
         "96"
        ],
        [
         "24",
         "573",
         "Amsterdam",
         "89"
        ],
        [
         "25",
         "600",
         "Amsterdam",
         "94"
        ],
        [
         "26",
         "602",
         "Amsterdam",
         "100"
        ],
        [
         "27",
         "1610",
         "Amsterdam",
         "96"
        ],
        [
         "28",
         "332",
         "Amsterdam",
         "94"
        ],
        [
         "29",
         "797",
         "Amsterdam",
         "94"
        ],
        [
         "30",
         "541",
         "Amsterdam",
         "96"
        ],
        [
         "31",
         "344",
         "Amsterdam",
         "95"
        ],
        [
         "32",
         "479",
         "Amsterdam",
         "94"
        ],
        [
         "33",
         "717",
         "Amsterdam",
         "96"
        ],
        [
         "34",
         "350",
         "Amsterdam",
         "91"
        ],
        [
         "35",
         "379",
         "Amsterdam",
         "95"
        ],
        [
         "36",
         "299",
         "Amsterdam",
         "94"
        ],
        [
         "37",
         "381",
         "Amsterdam",
         "95"
        ],
        [
         "38",
         "430",
         "Amsterdam",
         "96"
        ],
        [
         "39",
         "344",
         "Amsterdam",
         "95"
        ],
        [
         "40",
         "407",
         "Amsterdam",
         "98"
        ],
        [
         "41",
         "750",
         "Amsterdam",
         "98"
        ],
        [
         "42",
         "492",
         "Amsterdam",
         "98"
        ],
        [
         "43",
         "344",
         "Amsterdam",
         "95"
        ],
        [
         "44",
         "817",
         "Amsterdam",
         "100"
        ],
        [
         "45",
         "420",
         "Amsterdam",
         "90"
        ],
        [
         "46",
         "256",
         "Amsterdam",
         "100"
        ],
        [
         "47",
         "799",
         "Amsterdam",
         "98"
        ],
        [
         "48",
         "369",
         "Amsterdam",
         "97"
        ],
        [
         "49",
         "848",
         "Amsterdam",
         "98"
        ]
       ],
       "shape": {
        "columns": 3,
        "rows": 51707
       }
      },
      "text/html": [
       "<div>\n",
       "<style scoped>\n",
       "    .dataframe tbody tr th:only-of-type {\n",
       "        vertical-align: middle;\n",
       "    }\n",
       "\n",
       "    .dataframe tbody tr th {\n",
       "        vertical-align: top;\n",
       "    }\n",
       "\n",
       "    .dataframe thead th {\n",
       "        text-align: right;\n",
       "    }\n",
       "</style>\n",
       "<table border=\"1\" class=\"dataframe\">\n",
       "  <thead>\n",
       "    <tr style=\"text-align: right;\">\n",
       "      <th></th>\n",
       "      <th>realSum</th>\n",
       "      <th>city</th>\n",
       "      <th>guest_satisfaction_overall</th>\n",
       "    </tr>\n",
       "  </thead>\n",
       "  <tbody>\n",
       "    <tr>\n",
       "      <th>0</th>\n",
       "      <td>320</td>\n",
       "      <td>Amsterdam</td>\n",
       "      <td>88</td>\n",
       "    </tr>\n",
       "    <tr>\n",
       "      <th>1</th>\n",
       "      <td>348</td>\n",
       "      <td>Amsterdam</td>\n",
       "      <td>87</td>\n",
       "    </tr>\n",
       "    <tr>\n",
       "      <th>2</th>\n",
       "      <td>483</td>\n",
       "      <td>Amsterdam</td>\n",
       "      <td>90</td>\n",
       "    </tr>\n",
       "    <tr>\n",
       "      <th>3</th>\n",
       "      <td>486</td>\n",
       "      <td>Amsterdam</td>\n",
       "      <td>98</td>\n",
       "    </tr>\n",
       "    <tr>\n",
       "      <th>4</th>\n",
       "      <td>2772</td>\n",
       "      <td>Amsterdam</td>\n",
       "      <td>100</td>\n",
       "    </tr>\n",
       "    <tr>\n",
       "      <th>...</th>\n",
       "      <td>...</td>\n",
       "      <td>...</td>\n",
       "      <td>...</td>\n",
       "    </tr>\n",
       "    <tr>\n",
       "      <th>51702</th>\n",
       "      <td>219</td>\n",
       "      <td>Vienna</td>\n",
       "      <td>80</td>\n",
       "    </tr>\n",
       "    <tr>\n",
       "      <th>51703</th>\n",
       "      <td>191</td>\n",
       "      <td>Vienna</td>\n",
       "      <td>100</td>\n",
       "    </tr>\n",
       "    <tr>\n",
       "      <th>51704</th>\n",
       "      <td>252</td>\n",
       "      <td>Vienna</td>\n",
       "      <td>86</td>\n",
       "    </tr>\n",
       "    <tr>\n",
       "      <th>51705</th>\n",
       "      <td>638</td>\n",
       "      <td>Vienna</td>\n",
       "      <td>93</td>\n",
       "    </tr>\n",
       "    <tr>\n",
       "      <th>51706</th>\n",
       "      <td>133</td>\n",
       "      <td>Vienna</td>\n",
       "      <td>93</td>\n",
       "    </tr>\n",
       "  </tbody>\n",
       "</table>\n",
       "<p>51707 rows × 3 columns</p>\n",
       "</div>"
      ],
      "text/plain": [
       "       realSum       city  guest_satisfaction_overall\n",
       "0          320  Amsterdam                          88\n",
       "1          348  Amsterdam                          87\n",
       "2          483  Amsterdam                          90\n",
       "3          486  Amsterdam                          98\n",
       "4         2772  Amsterdam                         100\n",
       "...        ...        ...                         ...\n",
       "51702      219     Vienna                          80\n",
       "51703      191     Vienna                         100\n",
       "51704      252     Vienna                          86\n",
       "51705      638     Vienna                          93\n",
       "51706      133     Vienna                          93\n",
       "\n",
       "[51707 rows x 3 columns]"
      ]
     },
     "execution_count": 201,
     "metadata": {},
     "output_type": "execute_result"
    }
   ],
   "source": [
    "df[[\"realSum\", \"city\", \"guest_satisfaction_overall\"]]"
   ]
  },
  {
   "cell_type": "code",
   "execution_count": null,
   "id": "207a2086",
   "metadata": {},
   "outputs": [],
   "source": [
    "df = df.rename(columns={\"realSum\": \"price\", \"guest_satisfaction_overall\": \"rating\"})"
   ]
  },
  {
   "cell_type": "code",
   "execution_count": null,
   "id": "d01c30c2",
   "metadata": {},
   "outputs": [
    {
     "data": {
      "text/plain": [
       "(51707, 15)"
      ]
     },
     "execution_count": 203,
     "metadata": {},
     "output_type": "execute_result"
    }
   ],
   "source": [
    "df.shape"
   ]
  },
  {
   "cell_type": "code",
   "execution_count": null,
   "id": "26b4f35a",
   "metadata": {},
   "outputs": [
    {
     "data": {
      "text/plain": [
       "np.int64(0)"
      ]
     },
     "execution_count": 204,
     "metadata": {},
     "output_type": "execute_result"
    }
   ],
   "source": [
    "df.duplicated().sum()"
   ]
  },
  {
   "cell_type": "code",
   "execution_count": null,
   "id": "f9fc3597",
   "metadata": {},
   "outputs": [],
   "source": [
    "median_price = df.groupby(\"city\")[\"price\"].median()"
   ]
  },
  {
   "cell_type": "code",
   "execution_count": null,
   "id": "b94af14f",
   "metadata": {},
   "outputs": [],
   "source": [
    "mean_rate = df.groupby(\"city\")[\"rating\"].mean()"
   ]
  },
  {
   "cell_type": "code",
   "execution_count": null,
   "id": "632f7a97",
   "metadata": {},
   "outputs": [
    {
     "name": "stdout",
     "output_type": "stream",
     "text": [
      "city\n",
      "Amsterdam    460.5\n",
      "Athens       128.0\n",
      "Barcelona    208.0\n",
      "Berlin       191.0\n",
      "Budapest     153.0\n",
      "Lisbon       225.0\n",
      "London       261.0\n",
      "Paris        318.0\n",
      "Rome         183.0\n",
      "Vienna       208.0\n",
      "Name: price, dtype: Float64\n",
      "city\n",
      "Amsterdam    94.514423\n",
      "Athens       95.003598\n",
      "Barcelona    91.109072\n",
      "Berlin       94.323671\n",
      "Budapest     94.585281\n",
      "Lisbon       91.093875\n",
      "London       90.645652\n",
      "Paris        92.037530\n",
      "Rome         93.122300\n",
      "Vienna       93.731128\n",
      "Name: rating, dtype: float64\n"
     ]
    }
   ],
   "source": [
    "print(median_price)\n",
    "print(mean_rate)"
   ]
  },
  {
   "cell_type": "code",
   "execution_count": null,
   "id": "3c1c99b2",
   "metadata": {},
   "outputs": [
    {
     "name": "stdout",
     "output_type": "stream",
     "text": [
      "Median price by city:\n",
      " city\n",
      "Amsterdam    460.5\n",
      "Athens       128.0\n",
      "Barcelona    208.0\n",
      "Berlin       191.0\n",
      "Budapest     153.0\n",
      "Lisbon       225.0\n",
      "London       261.0\n",
      "Paris        318.0\n",
      "Rome         183.0\n",
      "Vienna       208.0\n",
      "Name: price, dtype: Float64\n",
      "\n",
      "Mean price by city:\n",
      " city\n",
      "Amsterdam    573.108173\n",
      "Athens       151.740909\n",
      "Barcelona     293.79527\n",
      "Berlin       244.599034\n",
      "Budapest     176.508454\n",
      "Lisbon       238.220545\n",
      "London       362.473031\n",
      "Paris        392.541717\n",
      "Rome         205.397142\n",
      "Vienna       241.591462\n",
      "Name: price, dtype: Float64\n"
     ]
    }
   ],
   "source": [
    "\n",
    "\n",
    "# Group by city (or country)\n",
    "mean_price = df.groupby(\"city\")[\"price\"].mean()\n",
    "median_price = df.groupby(\"city\")[\"price\"].median()\n",
    "\n",
    "print(\"Median price by city:\\n\", median_price)\n",
    "print(\"\\nMean price by city:\\n\", mean_price)\n"
   ]
  },
  {
   "cell_type": "code",
   "execution_count": null,
   "id": "f2ffee18",
   "metadata": {},
   "outputs": [],
   "source": [
    "df[\"median_price\"] = \"median_price\""
   ]
  },
  {
   "cell_type": "code",
   "execution_count": null,
   "id": "c8955678",
   "metadata": {},
   "outputs": [
    {
     "data": {
      "text/plain": [
       "Index(['price', 'room_type', 'room_shared', 'room_private', 'person_capacity',\n",
       "       'host_is_superhost', 'multi', 'biz', 'cleanliness_rating', 'rating',\n",
       "       'bedrooms', 'dist', 'metro_dist', 'city', 'weekends', 'median_price'],\n",
       "      dtype='object')"
      ]
     },
     "execution_count": 211,
     "metadata": {},
     "output_type": "execute_result"
    }
   ],
   "source": [
    "df.columns"
   ]
  },
  {
   "cell_type": "code",
   "execution_count": null,
   "id": "8e369f1d",
   "metadata": {},
   "outputs": [
    {
     "data": {
      "image/png": "[encoded data removed]",
      "text/plain": [
       "<Figure size 800x500 with 1 Axes>"
      ]
     },
     "metadata": {},
     "output_type": "display_data"
    }
   ],
   "source": [
    "import matplotlib.pyplot as plt\n",
    "\n",
    "# Group by country (or city if your column is named that)\n",
    "median_price = df.groupby(\"city\")[\"price\"].median().sort_values(ascending=False)\n",
    "\n",
    "# Plot\n",
    "median_price.plot(kind=\"bar\", color=\"skyblue\", edgecolor=\"black\", figsize=(8,5))\n",
    "plt.title(\"Average Price by City\")\n",
    "plt.xlabel(\"City\")\n",
    "plt.ylabel(\"Average Price (€)\")\n",
    "plt.xticks(rotation=45, ha=\"right\")\n",
    "plt.tight_layout()\n",
    "\n",
    "plt.savefig(\"outputs/avg_price_by_city.png\", dpi=300, bbox_inches=\"tight\")\n",
    "\n",
    "plt.show()"
   ]
  },
  {
   "cell_type": "code",
   "execution_count": null,
   "id": "9e1b7d0d",
   "metadata": {},
   "outputs": [],
   "source": [
    "median_price.to_csv(\"outputs/avg_price_by_city.csv\", index=False) #save as csv file\n"
   ]
  }
 ],
 "metadata": {
  "kernelspec": {
   "display_name": "myenv_project",
   "language": "python",
   "name": "python3"
  },
  "language_info": {
   "codemirror_mode": {
    "name": "ipython",
    "version": 3
   },
   "file_extension": ".py",
   "mimetype": "text/x-python",
   "name": "python",
   "nbconvert_exporter": "python",
   "pygments_lexer": "ipython3",
   "version": "3.11.13"
  }
 },
 "nbformat": 4,
 "nbformat_minor": 5
}
